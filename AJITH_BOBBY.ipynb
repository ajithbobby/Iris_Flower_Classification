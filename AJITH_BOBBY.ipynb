{
  "nbformat": 4,
  "nbformat_minor": 0,
  "metadata": {
    "colab": {
      "name": "AJITH_BOBBY.ipynb",
      "provenance": [],
      "collapsed_sections": [],
      "include_colab_link": true
    },
    "kernelspec": {
      "name": "python3",
      "display_name": "Python 3"
    }
  },
  "cells": [
    {
      "cell_type": "markdown",
      "metadata": {
        "id": "view-in-github",
        "colab_type": "text"
      },
      "source": [
        "<a href=\"https://colab.research.google.com/github/ajithbobby/Iris_Flower_Classification/blob/main/AJITH_BOBBY.ipynb\" target=\"_parent\"><img src=\"https://colab.research.google.com/assets/colab-badge.svg\" alt=\"Open In Colab\"/></a>"
      ]
    },
    {
      "cell_type": "markdown",
      "metadata": {
        "id": "f2DANtNW8Puz"
      },
      "source": [
        "Here we have imported some libraries:"
      ]
    },
    {
      "cell_type": "code",
      "metadata": {
        "id": "8nE04QBjPhZ7"
      },
      "source": [
        "import pandas as pd\n",
        "import numpy as np"
      ],
      "execution_count": null,
      "outputs": []
    },
    {
      "cell_type": "markdown",
      "metadata": {
        "id": "zXihhoCVPp-u"
      },
      "source": [
        "The data we will use is the iris dataset, a classical dataset in machine learning and statistics.It is included in the scikit-learn in the datatsets module."
      ]
    },
    {
      "cell_type": "code",
      "metadata": {
        "id": "bSpmFR9hP-Yz"
      },
      "source": [
        "from sklearn.datasets import load_iris\n",
        "iris_dataset= load_iris()"
      ],
      "execution_count": null,
      "outputs": []
    },
    {
      "cell_type": "markdown",
      "metadata": {
        "id": "iSud0GLmQKry"
      },
      "source": [
        "The iris object that is returned by load_iris is a Bunch object, which is very similar to a dictionary. It contains keys and values."
      ]
    },
    {
      "cell_type": "code",
      "metadata": {
        "colab": {
          "base_uri": "https://localhost:8080/"
        },
        "id": "T99KX8KXQaDn",
        "outputId": "b0168268-48cf-4eb6-ab4b-3de7d2fd36ae"
      },
      "source": [
        "print(\"Keys of iris_dataset: \\n{}\".format(iris_dataset.keys()))"
      ],
      "execution_count": null,
      "outputs": [
        {
          "output_type": "stream",
          "text": [
            "Keys of iris_dataset: \n",
            "dict_keys(['data', 'target', 'target_names', 'DESCR', 'feature_names', 'filename'])\n"
          ],
          "name": "stdout"
        }
      ]
    },
    {
      "cell_type": "markdown",
      "metadata": {
        "id": "ZfZe1uipQomL"
      },
      "source": [
        "The value of the key DESCR is a short description of the dataset."
      ]
    },
    {
      "cell_type": "code",
      "metadata": {
        "colab": {
          "base_uri": "https://localhost:8080/"
        },
        "id": "7lcpu3vlQxgm",
        "outputId": "f7a24be1-d94f-4eb5-907f-92be4d84ba40"
      },
      "source": [
        "print(iris_dataset['DESCR'][:193] +\"\\n...\")"
      ],
      "execution_count": null,
      "outputs": [
        {
          "output_type": "stream",
          "text": [
            ".. _iris_dataset:\n",
            "\n",
            "Iris plants dataset\n",
            "--------------------\n",
            "\n",
            "**Data Set Characteristics:**\n",
            "\n",
            "    :Number of Instances: 150 (50 in each of three classes)\n",
            "    :Number of Attributes: 4 numeric, pre\n",
            "...\n"
          ],
          "name": "stdout"
        }
      ]
    },
    {
      "cell_type": "markdown",
      "metadata": {
        "id": "WcskmDnGRAGc"
      },
      "source": [
        "The value of the key target_names is an array of strings,containing the species of flower that we want to predict,i.e,'setosa','versicolor' and 'virginica'."
      ]
    },
    {
      "cell_type": "code",
      "metadata": {
        "colab": {
          "base_uri": "https://localhost:8080/"
        },
        "id": "8oDEeeRdRYEt",
        "outputId": "59ae334c-961a-4931-a96a-a46377ffd93f"
      },
      "source": [
        "print(\"Target names:{}\".format(iris_dataset['target_names']))"
      ],
      "execution_count": null,
      "outputs": [
        {
          "output_type": "stream",
          "text": [
            "Target names:['setosa' 'versicolor' 'virginica']\n"
          ],
          "name": "stdout"
        }
      ]
    },
    {
      "cell_type": "markdown",
      "metadata": {
        "id": "RyO_-UrERkHV"
      },
      "source": [
        "The value of feature_names is a list of strings,giving the description of each feature. It includes 'sepal length','sepal width','petal length' and 'petal width' all in centimeters."
      ]
    },
    {
      "cell_type": "code",
      "metadata": {
        "colab": {
          "base_uri": "https://localhost:8080/"
        },
        "id": "uAqN2vWBSPNT",
        "outputId": "299ea444-5dbf-4843-e55b-5d8d9ca40551"
      },
      "source": [
        "print(\"Feature names: \\n{}\".format(iris_dataset['feature_names']))"
      ],
      "execution_count": null,
      "outputs": [
        {
          "output_type": "stream",
          "text": [
            "Feature names: \n",
            "['sepal length (cm)', 'sepal width (cm)', 'petal length (cm)', 'petal width (cm)']\n"
          ],
          "name": "stdout"
        }
      ]
    },
    {
      "cell_type": "markdown",
      "metadata": {
        "id": "WDbgLqrCScJW"
      },
      "source": [
        "The data that we are going to use is itself contained in the target and data fields.The data contains numeric measurements of sepal length,sepal width,petal length and petal width in a NumPy array."
      ]
    },
    {
      "cell_type": "code",
      "metadata": {
        "colab": {
          "base_uri": "https://localhost:8080/"
        },
        "id": "DEo1h0U7Sz1q",
        "outputId": "5c157361-8a01-488d-90ab-e5c2f3ff32fc"
      },
      "source": [
        "print(\"Type of data:{}\".format(type(iris_dataset['data'])))"
      ],
      "execution_count": null,
      "outputs": [
        {
          "output_type": "stream",
          "text": [
            "Type of data:<class 'numpy.ndarray'>\n"
          ],
          "name": "stdout"
        }
      ]
    },
    {
      "cell_type": "markdown",
      "metadata": {
        "id": "y9AoiM5YTWLp"
      },
      "source": [
        "The rows in this data array correspond to the flowers, while the columns represent the four measurements that were taken for each flower."
      ]
    },
    {
      "cell_type": "code",
      "metadata": {
        "colab": {
          "base_uri": "https://localhost:8080/"
        },
        "id": "GcgY3oyMTzmk",
        "outputId": "c626310a-2cc8-40bc-daab-e7f2299a1ef9"
      },
      "source": [
        "print(\"Shape of data:{}\".format(iris_dataset['data'].shape))"
      ],
      "execution_count": null,
      "outputs": [
        {
          "output_type": "stream",
          "text": [
            "Shape of data:(150, 4)\n"
          ],
          "name": "stdout"
        }
      ]
    },
    {
      "cell_type": "markdown",
      "metadata": {
        "id": "r5tu1EmKUIZ7"
      },
      "source": [
        "We see that the array contains measurements for 150 different flowers.The individual items are called samples/data points in machine learning, and their properties are called features.So we have 150 data points and 4 features."
      ]
    },
    {
      "cell_type": "code",
      "metadata": {
        "colab": {
          "base_uri": "https://localhost:8080/"
        },
        "id": "oYA5gJU_UfYA",
        "outputId": "67fba22f-e874-4535-ed74-4a77f701c7d2"
      },
      "source": [
        "print(\"First five columns of data:\\n{}\".format(iris_dataset['data'][:5]))"
      ],
      "execution_count": null,
      "outputs": [
        {
          "output_type": "stream",
          "text": [
            "First five columns of data:\n",
            "[[5.1 3.5 1.4 0.2]\n",
            " [4.9 3.  1.4 0.2]\n",
            " [4.7 3.2 1.3 0.2]\n",
            " [4.6 3.1 1.5 0.2]\n",
            " [5.  3.6 1.4 0.2]]\n"
          ],
          "name": "stdout"
        }
      ]
    },
    {
      "cell_type": "markdown",
      "metadata": {
        "id": "E3ZcgoiRUtpT"
      },
      "source": [
        "From this data, we can see that all of the first five flowers have a petal width of 0.2cm and that the first flower has the longest sepal, at 5.1cm."
      ]
    },
    {
      "cell_type": "code",
      "metadata": {
        "colab": {
          "base_uri": "https://localhost:8080/"
        },
        "id": "aNVlG5zqVAB_",
        "outputId": "a58809f7-fd2a-4ec2-df91-5be54d54df82"
      },
      "source": [
        "print(\"Type of target:{}\".format(type(iris_dataset['target'])))"
      ],
      "execution_count": null,
      "outputs": [
        {
          "output_type": "stream",
          "text": [
            "Type of target:<class 'numpy.ndarray'>\n"
          ],
          "name": "stdout"
        }
      ]
    },
    {
      "cell_type": "markdown",
      "metadata": {
        "id": "ZEdWGGXpVMnj"
      },
      "source": [
        "target is a one-dimensional array, and on seeing the shape we can see that it contains one entry per flower."
      ]
    },
    {
      "cell_type": "code",
      "metadata": {
        "colab": {
          "base_uri": "https://localhost:8080/"
        },
        "id": "lc9HUCm9VYtD",
        "outputId": "9bf5bf1e-9d05-4aab-a5a0-274d72e1dc6a"
      },
      "source": [
        "print(\"Shape of target:{}\".format(iris_dataset['target'].shape))"
      ],
      "execution_count": null,
      "outputs": [
        {
          "output_type": "stream",
          "text": [
            "Shape of target:(150,)\n"
          ],
          "name": "stdout"
        }
      ]
    },
    {
      "cell_type": "markdown",
      "metadata": {
        "id": "AqnevDb8VnSQ"
      },
      "source": [
        "On seeing the target key and exploring the values we can easily see that the species are encoded as integers from 0 to 2."
      ]
    },
    {
      "cell_type": "code",
      "metadata": {
        "colab": {
          "base_uri": "https://localhost:8080/"
        },
        "id": "Att9MxHQVzdb",
        "outputId": "9442c8d7-0732-43e7-9eee-d766a7790c8f"
      },
      "source": [
        "print(\"Target:\\n{}\".format(iris_dataset['target']))"
      ],
      "execution_count": null,
      "outputs": [
        {
          "output_type": "stream",
          "text": [
            "Target:\n",
            "[0 0 0 0 0 0 0 0 0 0 0 0 0 0 0 0 0 0 0 0 0 0 0 0 0 0 0 0 0 0 0 0 0 0 0 0 0\n",
            " 0 0 0 0 0 0 0 0 0 0 0 0 0 1 1 1 1 1 1 1 1 1 1 1 1 1 1 1 1 1 1 1 1 1 1 1 1\n",
            " 1 1 1 1 1 1 1 1 1 1 1 1 1 1 1 1 1 1 1 1 1 1 1 1 1 1 2 2 2 2 2 2 2 2 2 2 2\n",
            " 2 2 2 2 2 2 2 2 2 2 2 2 2 2 2 2 2 2 2 2 2 2 2 2 2 2 2 2 2 2 2 2 2 2 2 2 2\n",
            " 2 2]\n"
          ],
          "name": "stdout"
        }
      ]
    },
    {
      "cell_type": "markdown",
      "metadata": {
        "id": "tIbgOZlVV_LM"
      },
      "source": [
        "The meanings of the numbers are given by the iris ['target_names'] array:0 means setosa,1 means versicolor and 2 means virginica."
      ]
    },
    {
      "cell_type": "markdown",
      "metadata": {
        "id": "rB26SLuZ7k9e"
      },
      "source": [
        "We want to build a machine learning model from this data that can predict the series of iris for a new set of measurements.\n",
        "In skicit-learn data is usually denoted with a capital X, while labels are denoted by a lowercase y.This is inspired by the standard formulation (x)=y in mathematics,where x is the input of a function and y is the output.Following more conventions from mathematics,we use a capital X because data is a two-dimensional array (a matrix) and a lowercase y because  the target is a one-dimensional array (a vector)."
      ]
    },
    {
      "cell_type": "code",
      "metadata": {
        "id": "EwMvhVz59J4_"
      },
      "source": [
        "from sklearn.model_selection import train_test_split\n",
        "X_train, X_test, y_train, y_test = train_test_split(\n",
        "                   iris_dataset['data'],iris_dataset['target'], random_state=0)"
      ],
      "execution_count": null,
      "outputs": []
    },
    {
      "cell_type": "markdown",
      "metadata": {
        "id": "uXVKVVyr-f2_"
      },
      "source": [
        "Before making the split, the train_test_split function shuffles the data set using a pseudorandom number generator. To make sure that we will get the same output if we run the same function several times, we provide the pseudorandom number generator with a fixed seed using the random_state parameter.\n",
        "The output of the train_test_split function is X_train, X_test, y_train, y_test, which are all Numpy arrays.X_train contains 75% of the rows of the dataset, and X_test contains the remaining 25%."
      ]
    },
    {
      "cell_type": "code",
      "metadata": {
        "colab": {
          "base_uri": "https://localhost:8080/"
        },
        "id": "d8426Ji8DAJM",
        "outputId": "37b73ea6-09d1-4269-df29-ec52656a078e"
      },
      "source": [
        "print(\"X_train shape: {}\".format(X_train.shape))\n",
        "print(\"y_train shape: {}\".format(y_train.shape))\n",
        "print(\"X_test shape: {}\".format(X_test.shape))\n",
        "print(\"y_test shape: {}\".format(y_test.shape))"
      ],
      "execution_count": null,
      "outputs": [
        {
          "output_type": "stream",
          "text": [
            "X_train shape: (112, 4)\n",
            "y_train shape: (112,)\n",
            "X_test shape: (38, 4)\n",
            "y_test shape: (38,)\n"
          ],
          "name": "stdout"
        }
      ]
    },
    {
      "cell_type": "markdown",
      "metadata": {
        "id": "C2fN5X-AFOH7"
      },
      "source": [
        "Next, we are going to import the machine learning model."
      ]
    },
    {
      "cell_type": "code",
      "metadata": {
        "id": "r9m98ktxFc8L"
      },
      "source": [
        "from sklearn.neighbors import KNeighborsClassifier\n",
        "knn= KNeighborsClassifier(n_neighbors=1)"
      ],
      "execution_count": null,
      "outputs": []
    },
    {
      "cell_type": "markdown",
      "metadata": {
        "id": "HglMr6ZiFtiz"
      },
      "source": [
        "The knn model encapsulates the algorithm  that will be used to build the model from the training data, as well as the algorithm to make predictions on new data points. It wil also hold the information that the algorithm has extracted from the training data. In the case of KNeighborsClassifier, it will just store the training set. To build the model on the training set, we call the fit method of the knn object, which takes as arguments the NumPy array X_train containing the training data and the NumPy array y_train of the corresponding training labels: "
      ]
    },
    {
      "cell_type": "code",
      "metadata": {
        "colab": {
          "base_uri": "https://localhost:8080/"
        },
        "id": "u6XMlgTiHREN",
        "outputId": "52aed646-1080-4148-a5ba-ea5bf325585d"
      },
      "source": [
        "knn.fit(X_train, y_train)"
      ],
      "execution_count": null,
      "outputs": [
        {
          "output_type": "execute_result",
          "data": {
            "text/plain": [
              "KNeighborsClassifier(algorithm='auto', leaf_size=30, metric='minkowski',\n",
              "                     metric_params=None, n_jobs=None, n_neighbors=1, p=2,\n",
              "                     weights='uniform')"
            ]
          },
          "metadata": {
            "tags": []
          },
          "execution_count": 19
        }
      ]
    },
    {
      "cell_type": "markdown",
      "metadata": {
        "id": "IjovER8zHfTD"
      },
      "source": [
        "We can now make predictions using this model on new data for which we might not know the correct labels. Imagine we found an iris in the wild with a sepal length of 5 cm, a sepal width of 2.9cm, a petal length of 1cm and a petal width of 0.2cm.\n",
        "We can put this data into a NumPy array, again by calculating the shape,i.e, the number of samples(1) multiplied by the number of features(4):"
      ]
    },
    {
      "cell_type": "code",
      "metadata": {
        "colab": {
          "base_uri": "https://localhost:8080/"
        },
        "id": "bAQH7W7oIpAO",
        "outputId": "b07c3eeb-c6ba-4fc5-9d7a-183160596c21"
      },
      "source": [
        "X_new = np.array([[5, 2.9 ,1, 0.2]])\n",
        "print(\"X_new.shape: {}\".format(X_new.shape))"
      ],
      "execution_count": null,
      "outputs": [
        {
          "output_type": "stream",
          "text": [
            "X_new.shape: (1, 4)\n"
          ],
          "name": "stdout"
        }
      ]
    },
    {
      "cell_type": "markdown",
      "metadata": {
        "id": "Bq7lY28fJbeJ"
      },
      "source": [
        "We made the measurements of this single flower into a row in a two-dimensional NumPy array, as scikit-learn always expects two-dimensional arrays for the data.\n",
        "To make a prediction, we call the predict method of the knn object:"
      ]
    },
    {
      "cell_type": "code",
      "metadata": {
        "colab": {
          "base_uri": "https://localhost:8080/"
        },
        "id": "ynIGT5u8KFhr",
        "outputId": "9a8d247c-03cb-4323-82f7-c67407e5f1b1"
      },
      "source": [
        "prediction= knn.predict(X_new)\n",
        "\n",
        "print(\"Prediction: {}\".format(prediction))\n",
        "print(\"Predicted target name: {}\".format(\n",
        "iris_dataset['target_names'][prediction]))"
      ],
      "execution_count": null,
      "outputs": [
        {
          "output_type": "stream",
          "text": [
            "Prediction: [0]\n",
            "Predicted target name: ['setosa']\n"
          ],
          "name": "stdout"
        }
      ]
    },
    {
      "cell_type": "markdown",
      "metadata": {
        "id": "3wXmm3yeLGfL"
      },
      "source": [
        "This is where the test set that we created earlier comes in. This data was not used to build the model, but we do not know what the correct species is for each iris in the test set.\n",
        "Therefore, we can make a prediction for each iris in the test data and compare it against its label( the known species). We can measure how well the model works by computing the accuracy ,which is the fraction of flowers for which the right species was predicted:"
      ]
    },
    {
      "cell_type": "code",
      "metadata": {
        "colab": {
          "base_uri": "https://localhost:8080/"
        },
        "id": "axrxAvq7MjTi",
        "outputId": "e5b9e3c3-118b-4a51-b1b5-66cc6c0448d5"
      },
      "source": [
        "y_pred = knn.predict(X_test)\n",
        "print(\"Test set prediction:\\n {}\".format(y_pred))"
      ],
      "execution_count": null,
      "outputs": [
        {
          "output_type": "stream",
          "text": [
            "Test set prediction:\n",
            " [2 1 0 2 0 2 0 1 1 1 2 1 1 1 1 0 1 1 0 0 2 1 0 0 2 0 0 1 1 0 2 1 0 2 2 1 0\n",
            " 2]\n"
          ],
          "name": "stdout"
        }
      ]
    },
    {
      "cell_type": "code",
      "metadata": {
        "colab": {
          "base_uri": "https://localhost:8080/"
        },
        "id": "DslJcvDHM42P",
        "outputId": "07d05a12-155c-488f-9bb3-f9d388dc36c2"
      },
      "source": [
        "print(\"Test set score: {}\".format(np.mean(y_pred == y_test)))"
      ],
      "execution_count": null,
      "outputs": [
        {
          "output_type": "stream",
          "text": [
            "Test set score: 0.9736842105263158\n"
          ],
          "name": "stdout"
        }
      ]
    },
    {
      "cell_type": "markdown",
      "metadata": {
        "id": "uWG6ei_mNd1I"
      },
      "source": [
        "From this, we found out that accuracy of our model which we have created is 97.368%."
      ]
    }
  ]
}